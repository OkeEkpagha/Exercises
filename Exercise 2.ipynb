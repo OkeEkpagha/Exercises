{
 "cells": [
  {
   "cell_type": "code",
   "execution_count": 8,
   "metadata": {},
   "outputs": [
    {
     "name": "stdout",
     "output_type": "stream",
     "text": [
      "Pick a number: 16\n",
      "Your number is a multiple of 4!\n"
     ]
    }
   ],
   "source": [
    "x = int(input(\"Pick a number: \"))\n",
    "if x % 4 == 0:\n",
    "    print (\"Your number is a multiple of 4!\")\n",
    "\n",
    "elif x % 2 == 0:\n",
    "    print (\"Your number is even!\")\n",
    "            \n",
    "else:\n",
    "    print (\"Your number is odd!\")\n",
    "\n",
    "    "
   ]
  },
  {
   "cell_type": "markdown",
   "metadata": {},
   "source": [
    "Ask the user for a number. Depending on whether the number is even or odd, print out an appropriate message to the user.\n",
    "\n",
    "Hint: how does an even / odd number react differently when divided by 2?\n",
    "\n",
    "Extras:\n",
    "\n",
    "If the number is a multiple of 4, print out a different message.\n",
    "\n",
    "Ask the user for two numbers: one number to check (call it num) and one number to divide by (check). If check divides evenly into num, tell that to the user. If not, print a different appropriate message.\n"
   ]
  },
  {
   "cell_type": "code",
   "execution_count": 7,
   "metadata": {},
   "outputs": [
    {
     "name": "stdout",
     "output_type": "stream",
     "text": [
      "Pick a number: 10\n",
      "Pick a number: 3\n",
      "Does not divide cleanly\n"
     ]
    }
   ],
   "source": [
    "num = int(input(\"Pick a number: \"))\n",
    "check = int(input(\"Pick a number: \"))\n",
    "\n",
    "if num % check == 0:\n",
    "    print (\"Divides cleanly\")\n",
    "    \n",
    "else:\n",
    "    print (\"Does not divide cleanly\")\n",
    "\n"
   ]
  },
  {
   "cell_type": "code",
   "execution_count": null,
   "metadata": {},
   "outputs": [],
   "source": []
  }
 ],
 "metadata": {
  "kernelspec": {
   "display_name": "Python 3",
   "language": "python",
   "name": "python3"
  },
  "language_info": {
   "codemirror_mode": {
    "name": "ipython",
    "version": 3
   },
   "file_extension": ".py",
   "mimetype": "text/x-python",
   "name": "python",
   "nbconvert_exporter": "python",
   "pygments_lexer": "ipython3",
   "version": "3.7.3"
  }
 },
 "nbformat": 4,
 "nbformat_minor": 2
}
